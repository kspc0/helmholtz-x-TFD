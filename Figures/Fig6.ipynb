{
 "cells": [
  {
   "cell_type": "markdown",
   "id": "3d1d5ec2",
   "metadata": {},
   "source": [
    "# Plotting Figure 6\n",
    "> Residual analysis of helmholtz solver"
   ]
  },
  {
   "cell_type": "markdown",
   "id": "3e323a92",
   "metadata": {},
   "source": [
    "**Info**: this figure is produced in paraview\n",
    "\n",
    "- use build_data_fig6.py to produce 3 function spaces saved as .xdmf files\n",
    "- open the paraview state called \"plot_fig6.pvsm\""
   ]
  }
 ],
 "metadata": {
  "language_info": {
   "name": "python"
  }
 },
 "nbformat": 4,
 "nbformat_minor": 5
}
