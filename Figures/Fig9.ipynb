{
 "cells": [
  {
   "cell_type": "markdown",
   "id": "b0389e2a",
   "metadata": {},
   "source": [
    "# Plotting Figure 9\n",
    "> Mesh Perturbation Showcase"
   ]
  },
  {
   "cell_type": "markdown",
   "id": "16504240",
   "metadata": {},
   "source": [
    "**Info**: this figure is produced in paraview\n",
    "\n",
    "- use build_data_fig9.py to produce the two meshes .xdmf files\n",
    "- open the paraview state called \"plot_fig9.pvsm\""
   ]
  }
 ],
 "metadata": {
  "language_info": {
   "name": "python"
  }
 },
 "nbformat": 4,
 "nbformat_minor": 5
}
